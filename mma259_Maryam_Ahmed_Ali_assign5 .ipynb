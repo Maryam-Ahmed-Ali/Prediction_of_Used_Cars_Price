{
 "cells": [
  {
   "cell_type": "code",
   "execution_count": 50,
   "metadata": {
    "id": "VREhTQLYC5T4"
   },
   "outputs": [],
   "source": [
    "import pandas as pd\n",
    "import numpy as np\n",
    "import matplotlib.pyplot as plt\n",
    "%matplotlib inline \n",
    "import seaborn as sns\n",
    "\n",
    "from sklearn.preprocessing import OneHotEncoder\n",
    "from sklearn.preprocessing import FunctionTransformer\n",
    "from sklearn.compose import ColumnTransformer\n",
    "from sklearn.pipeline import Pipeline\n",
    "\n",
    "from sklearn.model_selection import KFold \n",
    "from sklearn.model_selection import cross_val_score \n",
    "\n",
    "from sklearn.metrics import mean_squared_error\n",
    "\n",
    "import re\n",
    "\n",
    "# models\n",
    "from sklearn.linear_model import LinearRegression\n",
    "from sklearn.svm import (SVR, LinearSVR)\n",
    "from sklearn.tree import DecisionTreeRegressor\n",
    "from sklearn.ensemble import (RandomForestRegressor, GradientBoostingRegressor)\n",
    "\n",
    "# ignore warnings\n",
    "import warnings\n",
    "warnings.filterwarnings(\"ignore\")"
   ]
  },
  {
   "cell_type": "code",
   "execution_count": 3,
   "metadata": {
    "colab": {
     "base_uri": "https://localhost:8080/",
     "height": 428
    },
    "id": "zRAlUttXC5UA",
    "outputId": "01e53383-3448-4390-d3c5-92b813104558"
   },
   "outputs": [
    {
     "name": "stdout",
     "output_type": "stream",
     "text": [
      "(320749, 18)\n"
     ]
    },
    {
     "data": {
      "text/html": [
       "<div>\n",
       "<style scoped>\n",
       "    .dataframe tbody tr th:only-of-type {\n",
       "        vertical-align: middle;\n",
       "    }\n",
       "\n",
       "    .dataframe tbody tr th {\n",
       "        vertical-align: top;\n",
       "    }\n",
       "\n",
       "    .dataframe thead th {\n",
       "        text-align: right;\n",
       "    }\n",
       "</style>\n",
       "<table border=\"1\" class=\"dataframe\">\n",
       "  <thead>\n",
       "    <tr style=\"text-align: right;\">\n",
       "      <th></th>\n",
       "      <th>id</th>\n",
       "      <th>region</th>\n",
       "      <th>price</th>\n",
       "      <th>year</th>\n",
       "      <th>manufacturer</th>\n",
       "      <th>model</th>\n",
       "      <th>condition</th>\n",
       "      <th>cylinders</th>\n",
       "      <th>fuel</th>\n",
       "      <th>odometer</th>\n",
       "      <th>transmission</th>\n",
       "      <th>drive</th>\n",
       "      <th>type</th>\n",
       "      <th>paint_color</th>\n",
       "      <th>state</th>\n",
       "      <th>lat</th>\n",
       "      <th>long</th>\n",
       "      <th>posting_date</th>\n",
       "    </tr>\n",
       "  </thead>\n",
       "  <tbody>\n",
       "    <tr>\n",
       "      <th>0</th>\n",
       "      <td>7226069143</td>\n",
       "      <td>indianapolis</td>\n",
       "      <td>3495</td>\n",
       "      <td>2005.0</td>\n",
       "      <td>lincoln</td>\n",
       "      <td>lse</td>\n",
       "      <td>good</td>\n",
       "      <td>8 cylinders</td>\n",
       "      <td>gas</td>\n",
       "      <td>181000.0</td>\n",
       "      <td>automatic</td>\n",
       "      <td>rwd</td>\n",
       "      <td>sedan</td>\n",
       "      <td>silver</td>\n",
       "      <td>in</td>\n",
       "      <td>39.640500</td>\n",
       "      <td>-86.311800</td>\n",
       "      <td>2020-11-05T16:19:56-0500</td>\n",
       "    </tr>\n",
       "    <tr>\n",
       "      <th>1</th>\n",
       "      <td>7233322668</td>\n",
       "      <td>medford-ashland</td>\n",
       "      <td>11995</td>\n",
       "      <td>2011.0</td>\n",
       "      <td>subaru</td>\n",
       "      <td>impreza</td>\n",
       "      <td>good</td>\n",
       "      <td>4 cylinders</td>\n",
       "      <td>gas</td>\n",
       "      <td>69408.0</td>\n",
       "      <td>automatic</td>\n",
       "      <td>4wd</td>\n",
       "      <td>wagon</td>\n",
       "      <td>blue</td>\n",
       "      <td>or</td>\n",
       "      <td>45.524894</td>\n",
       "      <td>-122.656061</td>\n",
       "      <td>2020-11-18T15:45:51-0800</td>\n",
       "    </tr>\n",
       "    <tr>\n",
       "      <th>2</th>\n",
       "      <td>7239134076</td>\n",
       "      <td>austin</td>\n",
       "      <td>68990</td>\n",
       "      <td>2016.0</td>\n",
       "      <td>porsche</td>\n",
       "      <td>cayman gts coupe 2d</td>\n",
       "      <td>good</td>\n",
       "      <td>NaN</td>\n",
       "      <td>gas</td>\n",
       "      <td>7923.0</td>\n",
       "      <td>automatic</td>\n",
       "      <td>rwd</td>\n",
       "      <td>coupe</td>\n",
       "      <td>red</td>\n",
       "      <td>tx</td>\n",
       "      <td>30.260000</td>\n",
       "      <td>-97.740000</td>\n",
       "      <td>2020-11-30T02:13:53-0600</td>\n",
       "    </tr>\n",
       "    <tr>\n",
       "      <th>3</th>\n",
       "      <td>7238509078</td>\n",
       "      <td>hawaii</td>\n",
       "      <td>17900</td>\n",
       "      <td>2011.0</td>\n",
       "      <td>bmw</td>\n",
       "      <td>535i</td>\n",
       "      <td>NaN</td>\n",
       "      <td>NaN</td>\n",
       "      <td>gas</td>\n",
       "      <td>50193.0</td>\n",
       "      <td>automatic</td>\n",
       "      <td>NaN</td>\n",
       "      <td>sedan</td>\n",
       "      <td>black</td>\n",
       "      <td>hi</td>\n",
       "      <td>21.293854</td>\n",
       "      <td>-157.837158</td>\n",
       "      <td>2020-11-28T13:57:30-1000</td>\n",
       "    </tr>\n",
       "    <tr>\n",
       "      <th>4</th>\n",
       "      <td>7236364831</td>\n",
       "      <td>daytona beach</td>\n",
       "      <td>9500</td>\n",
       "      <td>2006.0</td>\n",
       "      <td>NaN</td>\n",
       "      <td>mazada miata</td>\n",
       "      <td>excellent</td>\n",
       "      <td>4 cylinders</td>\n",
       "      <td>gas</td>\n",
       "      <td>52864.0</td>\n",
       "      <td>automatic</td>\n",
       "      <td>rwd</td>\n",
       "      <td>convertible</td>\n",
       "      <td>blue</td>\n",
       "      <td>fl</td>\n",
       "      <td>29.172023</td>\n",
       "      <td>-81.027367</td>\n",
       "      <td>2020-11-24T12:48:43-0500</td>\n",
       "    </tr>\n",
       "  </tbody>\n",
       "</table>\n",
       "</div>"
      ],
      "text/plain": [
       "           id           region  ...        long              posting_date\n",
       "0  7226069143     indianapolis  ...  -86.311800  2020-11-05T16:19:56-0500\n",
       "1  7233322668  medford-ashland  ... -122.656061  2020-11-18T15:45:51-0800\n",
       "2  7239134076           austin  ...  -97.740000  2020-11-30T02:13:53-0600\n",
       "3  7238509078           hawaii  ... -157.837158  2020-11-28T13:57:30-1000\n",
       "4  7236364831    daytona beach  ...  -81.027367  2020-11-24T12:48:43-0500\n",
       "\n",
       "[5 rows x 18 columns]"
      ]
     },
     "execution_count": 3,
     "metadata": {
      "tags": []
     },
     "output_type": "execute_result"
    }
   ],
   "source": [
    "cars = pd.read_csv(\"cars_train.csv\")\n",
    "print(cars.shape)\n",
    "cars.head()"
   ]
  },
  {
   "cell_type": "markdown",
   "metadata": {
    "id": "9OMlbCWwdSpS"
   },
   "source": [
    "# Data exploration"
   ]
  },
  {
   "cell_type": "code",
   "execution_count": 4,
   "metadata": {
    "colab": {
     "base_uri": "https://localhost:8080/"
    },
    "id": "QMIG_ReCC5UC",
    "outputId": "92c5b16c-5949-4059-c51d-19e80d59ba76"
   },
   "outputs": [
    {
     "name": "stdout",
     "output_type": "stream",
     "text": [
      "<class 'pandas.core.frame.DataFrame'>\n",
      "RangeIndex: 320749 entries, 0 to 320748\n",
      "Data columns (total 18 columns):\n",
      " #   Column        Non-Null Count   Dtype  \n",
      "---  ------        --------------   -----  \n",
      " 0   id            320749 non-null  int64  \n",
      " 1   region        320749 non-null  object \n",
      " 2   price         320749 non-null  int64  \n",
      " 3   year          320006 non-null  float64\n",
      " 4   manufacturer  308004 non-null  object \n",
      " 5   model         317348 non-null  object \n",
      " 6   condition     185823 non-null  object \n",
      " 7   cylinders     200831 non-null  object \n",
      " 8   fuel          318505 non-null  object \n",
      " 9   odometer      281926 non-null  float64\n",
      " 10  transmission  319039 non-null  object \n",
      " 11  drive         226666 non-null  object \n",
      " 12  type          241851 non-null  object \n",
      " 13  paint_color   222189 non-null  object \n",
      " 14  state         320749 non-null  object \n",
      " 15  lat           315562 non-null  float64\n",
      " 16  long          315562 non-null  float64\n",
      " 17  posting_date  320730 non-null  object \n",
      "dtypes: float64(4), int64(2), object(12)\n",
      "memory usage: 44.0+ MB\n"
     ]
    }
   ],
   "source": [
    "cars.info()"
   ]
  },
  {
   "cell_type": "code",
   "execution_count": 5,
   "metadata": {
    "colab": {
     "base_uri": "https://localhost:8080/",
     "height": 297
    },
    "id": "20glaA7gC5UC",
    "outputId": "f256a88b-78e0-4f2a-d62b-7a107d96b20d"
   },
   "outputs": [
    {
     "data": {
      "text/html": [
       "<div>\n",
       "<style scoped>\n",
       "    .dataframe tbody tr th:only-of-type {\n",
       "        vertical-align: middle;\n",
       "    }\n",
       "\n",
       "    .dataframe tbody tr th {\n",
       "        vertical-align: top;\n",
       "    }\n",
       "\n",
       "    .dataframe thead th {\n",
       "        text-align: right;\n",
       "    }\n",
       "</style>\n",
       "<table border=\"1\" class=\"dataframe\">\n",
       "  <thead>\n",
       "    <tr style=\"text-align: right;\">\n",
       "      <th></th>\n",
       "      <th>id</th>\n",
       "      <th>price</th>\n",
       "      <th>year</th>\n",
       "      <th>odometer</th>\n",
       "      <th>lat</th>\n",
       "      <th>long</th>\n",
       "    </tr>\n",
       "  </thead>\n",
       "  <tbody>\n",
       "    <tr>\n",
       "      <th>count</th>\n",
       "      <td>3.207490e+05</td>\n",
       "      <td>3.207490e+05</td>\n",
       "      <td>320006.000000</td>\n",
       "      <td>2.819260e+05</td>\n",
       "      <td>315562.000000</td>\n",
       "      <td>315562.000000</td>\n",
       "    </tr>\n",
       "    <tr>\n",
       "      <th>mean</th>\n",
       "      <td>7.235234e+09</td>\n",
       "      <td>3.867085e+04</td>\n",
       "      <td>2010.740930</td>\n",
       "      <td>9.685220e+04</td>\n",
       "      <td>38.536585</td>\n",
       "      <td>-94.351229</td>\n",
       "    </tr>\n",
       "    <tr>\n",
       "      <th>std</th>\n",
       "      <td>4.591287e+06</td>\n",
       "      <td>7.418730e+06</td>\n",
       "      <td>8.858039</td>\n",
       "      <td>2.739514e+05</td>\n",
       "      <td>5.853855</td>\n",
       "      <td>18.060558</td>\n",
       "    </tr>\n",
       "    <tr>\n",
       "      <th>min</th>\n",
       "      <td>7.209028e+09</td>\n",
       "      <td>0.000000e+00</td>\n",
       "      <td>1900.000000</td>\n",
       "      <td>0.000000e+00</td>\n",
       "      <td>-79.809640</td>\n",
       "      <td>-159.713745</td>\n",
       "    </tr>\n",
       "    <tr>\n",
       "      <th>25%</th>\n",
       "      <td>7.231955e+09</td>\n",
       "      <td>4.900000e+03</td>\n",
       "      <td>2008.000000</td>\n",
       "      <td>4.093500e+04</td>\n",
       "      <td>34.606000</td>\n",
       "      <td>-110.866049</td>\n",
       "    </tr>\n",
       "    <tr>\n",
       "      <th>50%</th>\n",
       "      <td>7.236410e+09</td>\n",
       "      <td>1.099500e+04</td>\n",
       "      <td>2013.000000</td>\n",
       "      <td>8.776700e+04</td>\n",
       "      <td>39.260000</td>\n",
       "      <td>-88.310560</td>\n",
       "    </tr>\n",
       "    <tr>\n",
       "      <th>75%</th>\n",
       "      <td>7.239315e+09</td>\n",
       "      <td>2.149500e+04</td>\n",
       "      <td>2016.000000</td>\n",
       "      <td>1.340000e+05</td>\n",
       "      <td>42.484503</td>\n",
       "      <td>-81.024100</td>\n",
       "    </tr>\n",
       "    <tr>\n",
       "      <th>max</th>\n",
       "      <td>7.241019e+09</td>\n",
       "      <td>2.857993e+09</td>\n",
       "      <td>2021.000000</td>\n",
       "      <td>1.234598e+08</td>\n",
       "      <td>76.781734</td>\n",
       "      <td>150.898969</td>\n",
       "    </tr>\n",
       "  </tbody>\n",
       "</table>\n",
       "</div>"
      ],
      "text/plain": [
       "                 id         price  ...            lat           long\n",
       "count  3.207490e+05  3.207490e+05  ...  315562.000000  315562.000000\n",
       "mean   7.235234e+09  3.867085e+04  ...      38.536585     -94.351229\n",
       "std    4.591287e+06  7.418730e+06  ...       5.853855      18.060558\n",
       "min    7.209028e+09  0.000000e+00  ...     -79.809640    -159.713745\n",
       "25%    7.231955e+09  4.900000e+03  ...      34.606000    -110.866049\n",
       "50%    7.236410e+09  1.099500e+04  ...      39.260000     -88.310560\n",
       "75%    7.239315e+09  2.149500e+04  ...      42.484503     -81.024100\n",
       "max    7.241019e+09  2.857993e+09  ...      76.781734     150.898969\n",
       "\n",
       "[8 rows x 6 columns]"
      ]
     },
     "execution_count": 5,
     "metadata": {
      "tags": []
     },
     "output_type": "execute_result"
    }
   ],
   "source": [
    "cars.describe()"
   ]
  },
  {
   "cell_type": "code",
   "execution_count": 6,
   "metadata": {
    "colab": {
     "base_uri": "https://localhost:8080/"
    },
    "id": "yEZrj633C5UC",
    "outputId": "a9ede0cb-176a-48f4-ba31-3db9c90aec2b"
   },
   "outputs": [
    {
     "name": "stdout",
     "output_type": "stream",
     "text": [
      "For variable  region\n",
      "columbus               2712\n",
      "rochester              2494\n",
      "jacksonville           2451\n",
      "springfield            2309\n",
      "redding                2136\n",
      "                       ... \n",
      "siskiyou county          16\n",
      "susanville                9\n",
      "west virginia (old)       7\n",
      "fort smith, AR            7\n",
      "sioux city, IA            1\n",
      "Name: region, Length: 405, dtype: int64\n",
      "For variable  manufacturer\n",
      "ford               55793\n",
      "chevrolet          45402\n",
      "toyota             27063\n",
      "honda              18026\n",
      "nissan             16511\n",
      "jeep               14909\n",
      "ram                12326\n",
      "gmc                12071\n",
      "dodge              11669\n",
      "bmw                 8642\n",
      "hyundai             7716\n",
      "mercedes-benz       7434\n",
      "volkswagen          7395\n",
      "subaru              7353\n",
      "kia                 6241\n",
      "chrysler            5271\n",
      "lexus               4986\n",
      "cadillac            4732\n",
      "buick               4228\n",
      "mazda               4131\n",
      "audi                3899\n",
      "acura               2777\n",
      "infiniti            2590\n",
      "lincoln             2332\n",
      "pontiac             2133\n",
      "volvo               2039\n",
      "mini                1627\n",
      "mitsubishi          1626\n",
      "porsche             1240\n",
      "rover               1178\n",
      "mercury             1173\n",
      "saturn               958\n",
      "tesla                756\n",
      "jaguar               718\n",
      "fiat                 666\n",
      "alfa-romeo           141\n",
      "harley-davidson       96\n",
      "ferrari               63\n",
      "datsun                39\n",
      "aston-martin          30\n",
      "land rover            20\n",
      "morgan                 3\n",
      "hennessey              1\n",
      "Name: manufacturer, dtype: int64\n",
      "For variable  model\n",
      "f-150                                          5841\n",
      "silverado 1500                                 4155\n",
      "1500                                           2934\n",
      "camry                                          2847\n",
      "accord                                         2585\n",
      "                                               ... \n",
      "1995 corvette                                     1\n",
      "131,000                                           1\n",
      "2500hd crew cab                                   1\n",
      "TJ Wrangler                                       1\n",
      "se taurus and quot;price slashed and quot;!       1\n",
      "Name: model, Length: 25970, dtype: int64\n",
      "For variable  condition\n",
      "good         81099\n",
      "excellent    80639\n",
      "like new     17259\n",
      "fair          5370\n",
      "new           1000\n",
      "salvage        456\n",
      "Name: condition, dtype: int64\n",
      "For variable  cylinders\n",
      "6 cylinders     74065\n",
      "4 cylinders     66352\n",
      "8 cylinders     56598\n",
      "5 cylinders      1455\n",
      "10 cylinders     1091\n",
      "other             751\n",
      "3 cylinders       383\n",
      "12 cylinders      136\n",
      "Name: cylinders, dtype: int64\n",
      "For variable  fuel\n",
      "gas         279660\n",
      "diesel       21669\n",
      "other        11458\n",
      "hybrid        4082\n",
      "electric      1636\n",
      "Name: fuel, dtype: int64\n",
      "For variable  transmission\n",
      "automatic    277454\n",
      "other         22518\n",
      "manual        19067\n",
      "Name: transmission, dtype: int64\n",
      "For variable  drive\n",
      "4wd    97765\n",
      "fwd    85753\n",
      "rwd    43148\n",
      "Name: drive, dtype: int64\n",
      "For variable  type\n",
      "sedan          64707\n",
      "SUV            56008\n",
      "pickup         30347\n",
      "truck          24926\n",
      "other          16828\n",
      "coupe          13428\n",
      "hatchback      11398\n",
      "wagon           7352\n",
      "van             6660\n",
      "convertible     4835\n",
      "mini-van        4406\n",
      "bus              508\n",
      "offroad          448\n",
      "Name: type, dtype: int64\n",
      "For variable  paint_color\n",
      "white     57891\n",
      "black     44940\n",
      "silver    32623\n",
      "red       23421\n",
      "blue      22852\n",
      "grey      21424\n",
      "custom     6174\n",
      "green      5321\n",
      "brown      4208\n",
      "yellow     1397\n",
      "orange     1395\n",
      "purple      543\n",
      "Name: paint_color, dtype: int64\n",
      "For variable  state\n",
      "ca    36019\n",
      "fl    21064\n",
      "tx    17424\n",
      "ny    14210\n",
      "mi    13194\n",
      "oh    12878\n",
      "or    12503\n",
      "nc    11740\n",
      "pa     9486\n",
      "wi     9351\n",
      "wa     9146\n",
      "co     8360\n",
      "tn     8186\n",
      "va     8055\n",
      "il     7400\n",
      "nj     7140\n",
      "ia     6781\n",
      "id     6540\n",
      "mn     6352\n",
      "az     6232\n",
      "ma     6044\n",
      "mt     5433\n",
      "sc     5310\n",
      "ga     5101\n",
      "in     5001\n",
      "ok     4684\n",
      "ks     4543\n",
      "ct     4281\n",
      "al     3974\n",
      "mo     3961\n",
      "ky     3544\n",
      "ar     3298\n",
      "md     3165\n",
      "nm     3022\n",
      "ak     2769\n",
      "la     2554\n",
      "nv     2202\n",
      "dc     2100\n",
      "nh     2099\n",
      "vt     2064\n",
      "hi     2064\n",
      "me     2029\n",
      "ri     1950\n",
      "ne     1423\n",
      "sd     1419\n",
      "ms     1137\n",
      "ut      917\n",
      "wy      791\n",
      "wv      714\n",
      "de      683\n",
      "nd      412\n",
      "Name: state, dtype: int64\n",
      "For variable  posting_date\n",
      "2020-12-02T07:50:07-0600    7\n",
      "2020-12-02T11:07:52-0500    5\n",
      "2020-12-03T09:23:42-0500    5\n",
      "2020-11-22T06:14:19-0500    5\n",
      "2020-11-22T03:38:19-0800    5\n",
      "                           ..\n",
      "2020-11-19T18:18:03-0600    1\n",
      "2020-12-03T06:26:04-0600    1\n",
      "2020-11-28T08:45:55-0500    1\n",
      "2020-11-29T07:07:30-0800    1\n",
      "2020-11-26T13:15:15-0600    1\n",
      "Name: posting_date, Length: 303278, dtype: int64\n"
     ]
    }
   ],
   "source": [
    "#Exploring categorical columns\n",
    "cat_vars = cars.select_dtypes(include=['object']).columns.tolist()\n",
    "\n",
    "for i in cars[cat_vars].columns:\n",
    "    print(\"For variable \",i)\n",
    "    print(cars[i].value_counts())"
   ]
  },
  {
   "cell_type": "markdown",
   "metadata": {
    "id": "FCmwkfmHdSpV"
   },
   "source": [
    "Noticed that some categorical columns have so many unique values so they might need feature engineering to assign all rare categories that are less than a specific frequency to one category"
   ]
  },
  {
   "cell_type": "code",
   "execution_count": 7,
   "metadata": {
    "colab": {
     "base_uri": "https://localhost:8080/",
     "height": 879
    },
    "id": "XiFu9ZQLC5UE",
    "outputId": "4e2359ab-743e-4200-d457-4fc0f3d56f4c"
   },
   "outputs": [
    {
     "data": {
      "image/png": "[encoded data removed]",
      "text/plain": [
       "<Figure size 1440x1080 with 6 Axes>"
      ]
     },
     "metadata": {
      "needs_background": "light",
      "tags": []
     },
     "output_type": "display_data"
    }
   ],
   "source": [
    "#Exploring numerical columns\n",
    "cars.hist(bins=50, figsize=(20,15))\n",
    "plt.show()"
   ]
  },
  {
   "cell_type": "markdown",
   "metadata": {
    "id": "w8cevQ87dSpW"
   },
   "source": [
    "Looking at the histograms of numerical features, I noticed from the distribution of 'odometer' and 'price' that they might be suffering from outliers"
   ]
  },
  {
   "cell_type": "code",
   "execution_count": 8,
   "metadata": {
    "id": "DDFSjPsMC5UE"
   },
   "outputs": [],
   "source": [
    "corr_matrix = cars.corr()"
   ]
  },
  {
   "cell_type": "code",
   "execution_count": 9,
   "metadata": {
    "colab": {
     "base_uri": "https://localhost:8080/",
     "height": 385
    },
    "id": "GsmXdlCFC5UF",
    "outputId": "540d6e9e-c467-49a7-92f2-bb859fd74985"
   },
   "outputs": [
    {
     "data": {
      "image/png": "[encoded data removed]",
      "text/plain": [
       "<Figure size 600x400 with 2 Axes>"
      ]
     },
     "metadata": {
      "needs_background": "light",
      "tags": []
     },
     "output_type": "display_data"
    }
   ],
   "source": [
    "mask = np.triu(np.ones_like(corr_matrix,dtype = bool))\n",
    "plt.figure(dpi=100)\n",
    "ax = plt.axes()\n",
    "sns.heatmap(corr_matrix,annot=False, mask=mask,lw=0,linecolor='white',fmt = \"0.2f\")\n",
    "plt.title('Correlation Analysis')\n",
    "plt.axis('tight')\n",
    "plt.show()"
   ]
  },
  {
   "cell_type": "code",
   "execution_count": 10,
   "metadata": {
    "colab": {
     "base_uri": "https://localhost:8080/"
    },
    "id": "-B5UHcqXC5UF",
    "outputId": "91fb9c8d-daf1-4465-8cd9-fde8ceded4d3"
   },
   "outputs": [
    {
     "data": {
      "text/plain": [
       "price       1.000000\n",
       "lat         0.000799\n",
       "id         -0.000985\n",
       "long       -0.001573\n",
       "year       -0.003709\n",
       "odometer   -0.004784\n",
       "Name: price, dtype: float64"
      ]
     },
     "execution_count": 10,
     "metadata": {
      "tags": []
     },
     "output_type": "execute_result"
    }
   ],
   "source": [
    "#Correlation with the target\n",
    "corr_matrix[\"price\"].sort_values(ascending=False)"
   ]
  },
  {
   "cell_type": "markdown",
   "metadata": {
    "id": "Xv8iyrnzdSpX"
   },
   "source": [
    "No numerical feature has interesting correlation with the target"
   ]
  },
  {
   "cell_type": "code",
   "execution_count": 11,
   "metadata": {
    "colab": {
     "base_uri": "https://localhost:8080/",
     "height": 658
    },
    "id": "AIQ3JKZVkKuJ",
    "outputId": "42bdc165-aca9-4e76-e4a1-7c432dbcc189"
   },
   "outputs": [
    {
     "name": "stdout",
     "output_type": "stream",
     "text": [
      "Number of columns with missing values:\n",
      "14\n",
      "Count and percentage of missing values for the columns:\n"
     ]
    },
    {
     "data": {
      "text/html": [
       "<div>\n",
       "<style scoped>\n",
       "    .dataframe tbody tr th:only-of-type {\n",
       "        vertical-align: middle;\n",
       "    }\n",
       "\n",
       "    .dataframe tbody tr th {\n",
       "        vertical-align: top;\n",
       "    }\n",
       "\n",
       "    .dataframe thead th {\n",
       "        text-align: right;\n",
       "    }\n",
       "</style>\n",
       "<table border=\"1\" class=\"dataframe\">\n",
       "  <thead>\n",
       "    <tr style=\"text-align: right;\">\n",
       "      <th></th>\n",
       "      <th>Count</th>\n",
       "      <th>Percentage</th>\n",
       "    </tr>\n",
       "  </thead>\n",
       "  <tbody>\n",
       "    <tr>\n",
       "      <th>condition</th>\n",
       "      <td>134926</td>\n",
       "      <td>42.065914</td>\n",
       "    </tr>\n",
       "    <tr>\n",
       "      <th>cylinders</th>\n",
       "      <td>119918</td>\n",
       "      <td>37.386866</td>\n",
       "    </tr>\n",
       "    <tr>\n",
       "      <th>paint_color</th>\n",
       "      <td>98560</td>\n",
       "      <td>30.728077</td>\n",
       "    </tr>\n",
       "    <tr>\n",
       "      <th>drive</th>\n",
       "      <td>94083</td>\n",
       "      <td>29.332282</td>\n",
       "    </tr>\n",
       "    <tr>\n",
       "      <th>type</th>\n",
       "      <td>78898</td>\n",
       "      <td>24.598050</td>\n",
       "    </tr>\n",
       "    <tr>\n",
       "      <th>odometer</th>\n",
       "      <td>38823</td>\n",
       "      <td>12.103857</td>\n",
       "    </tr>\n",
       "    <tr>\n",
       "      <th>manufacturer</th>\n",
       "      <td>12745</td>\n",
       "      <td>3.973512</td>\n",
       "    </tr>\n",
       "    <tr>\n",
       "      <th>lat</th>\n",
       "      <td>5187</td>\n",
       "      <td>1.617152</td>\n",
       "    </tr>\n",
       "    <tr>\n",
       "      <th>long</th>\n",
       "      <td>5187</td>\n",
       "      <td>1.617152</td>\n",
       "    </tr>\n",
       "    <tr>\n",
       "      <th>model</th>\n",
       "      <td>3401</td>\n",
       "      <td>1.060331</td>\n",
       "    </tr>\n",
       "    <tr>\n",
       "      <th>fuel</th>\n",
       "      <td>2244</td>\n",
       "      <td>0.699612</td>\n",
       "    </tr>\n",
       "    <tr>\n",
       "      <th>transmission</th>\n",
       "      <td>1710</td>\n",
       "      <td>0.533127</td>\n",
       "    </tr>\n",
       "    <tr>\n",
       "      <th>year</th>\n",
       "      <td>743</td>\n",
       "      <td>0.231645</td>\n",
       "    </tr>\n",
       "    <tr>\n",
       "      <th>posting_date</th>\n",
       "      <td>19</td>\n",
       "      <td>0.005924</td>\n",
       "    </tr>\n",
       "    <tr>\n",
       "      <th>state</th>\n",
       "      <td>0</td>\n",
       "      <td>0.000000</td>\n",
       "    </tr>\n",
       "    <tr>\n",
       "      <th>price</th>\n",
       "      <td>0</td>\n",
       "      <td>0.000000</td>\n",
       "    </tr>\n",
       "    <tr>\n",
       "      <th>region</th>\n",
       "      <td>0</td>\n",
       "      <td>0.000000</td>\n",
       "    </tr>\n",
       "    <tr>\n",
       "      <th>id</th>\n",
       "      <td>0</td>\n",
       "      <td>0.000000</td>\n",
       "    </tr>\n",
       "  </tbody>\n",
       "</table>\n",
       "</div>"
      ],
      "text/plain": [
       "               Count  Percentage\n",
       "condition     134926   42.065914\n",
       "cylinders     119918   37.386866\n",
       "paint_color    98560   30.728077\n",
       "drive          94083   29.332282\n",
       "type           78898   24.598050\n",
       "odometer       38823   12.103857\n",
       "manufacturer   12745    3.973512\n",
       "lat             5187    1.617152\n",
       "long            5187    1.617152\n",
       "model           3401    1.060331\n",
       "fuel            2244    0.699612\n",
       "transmission    1710    0.533127\n",
       "year             743    0.231645\n",
       "posting_date      19    0.005924\n",
       "state              0    0.000000\n",
       "price              0    0.000000\n",
       "region             0    0.000000\n",
       "id                 0    0.000000"
      ]
     },
     "execution_count": 11,
     "metadata": {
      "tags": []
     },
     "output_type": "execute_result"
    }
   ],
   "source": [
    "#Missing values\n",
    "count = cars.isnull().sum().sort_values(ascending=False)\n",
    "percentage = ((cars.isnull().sum()/len(cars)*100)).sort_values(ascending=False)\n",
    "missing = pd.concat([count, percentage], axis=1, keys=['Count','Percentage'])\n",
    "print('Number of columns with missing values:')\n",
    "print(missing[missing['Count']!= 0].shape[0])\n",
    "\n",
    "print('Count and percentage of missing values for the columns:')\n",
    "missing\n"
   ]
  },
  {
   "cell_type": "markdown",
   "metadata": {
    "id": "mG5aQRvndSpY"
   },
   "source": [
    "After investigating percentage of missing values in each column, No column has a large percentage of missing values that suggest to drop it"
   ]
  },
  {
   "cell_type": "code",
   "execution_count": 12,
   "metadata": {
    "id": "QEnbxUk_C5UG"
   },
   "outputs": [],
   "source": [
    "#Defining lower and upper limits to detect outliers\n",
    "def outliers(col):\n",
    "    q1 = np.nanpercentile(col, 25)\n",
    "    q3 = np.nanpercentile(col, 75)\n",
    "    iqr = q3 - q1\n",
    "    lower = q1 - (1.5 * iqr)\n",
    "    upper = q3 + (1.5 * iqr)\n",
    "    return lower , upper"
   ]
  },
  {
   "cell_type": "code",
   "execution_count": 13,
   "metadata": {
    "colab": {
     "base_uri": "https://localhost:8080/"
    },
    "id": "5h5F6S20C5UG",
    "outputId": "a186dfc4-0195-40be-d6ae-731725ca11e8"
   },
   "outputs": [
    {
     "name": "stdout",
     "output_type": "stream",
     "text": [
      "-19992.5 46387.5\n"
     ]
    }
   ],
   "source": [
    "lp, hp = outliers(cars['price'])\n",
    "print(lp,hp)"
   ]
  },
  {
   "cell_type": "code",
   "execution_count": 14,
   "metadata": {
    "colab": {
     "base_uri": "https://localhost:8080/"
    },
    "id": "1TnjY1IZC5UH",
    "outputId": "b43b75d6-6a07-43f2-94f8-7adda7f62bd0"
   },
   "outputs": [
    {
     "name": "stdout",
     "output_type": "stream",
     "text": [
      "-98662.5 273597.5\n"
     ]
    }
   ],
   "source": [
    "lo, ho = outliers(cars['odometer'])\n",
    "print(lo,ho)"
   ]
  },
  {
   "cell_type": "code",
   "execution_count": 15,
   "metadata": {
    "colab": {
     "base_uri": "https://localhost:8080/"
    },
    "id": "YIIf63s0C5UH",
    "outputId": "eeaba2c1-5f15-43c0-8ecf-2d8ab8228a91"
   },
   "outputs": [
    {
     "name": "stdout",
     "output_type": "stream",
     "text": [
      "1996.0 2028.0\n"
     ]
    }
   ],
   "source": [
    "ly,hy= outliers(cars['year'])\n",
    "print(ly,hy)"
   ]
  },
  {
   "cell_type": "code",
   "execution_count": 16,
   "metadata": {
    "colab": {
     "base_uri": "https://localhost:8080/"
    },
    "id": "UPMF9sBBC5UI",
    "outputId": "0a10f81e-3583-4927-eaf5-ded1f064b776"
   },
   "outputs": [
    {
     "name": "stdout",
     "output_type": "stream",
     "text": [
      "Number of cars where price is an outlier : 8918\n",
      "Number of cars where odometer is an outlier : 2621\n",
      "Number of cars where year is an outlier : 0\n"
     ]
    }
   ],
   "source": [
    "print('Number of cars where price is an outlier :',cars[cars['price'] > hp].shape[0])\n",
    "print('Number of cars where odometer is an outlier :',cars[cars['odometer'] > ho].shape[0])\n",
    "print('Number of cars where year is an outlier :',cars[cars['year'] > hy].shape[0])"
   ]
  },
  {
   "cell_type": "code",
   "execution_count": 17,
   "metadata": {
    "colab": {
     "base_uri": "https://localhost:8080/"
    },
    "id": "Cwe6fT2xC5UI",
    "outputId": "cb10a2e5-00fd-403a-debc-44ef012a10cb"
   },
   "outputs": [
    {
     "name": "stdout",
     "output_type": "stream",
     "text": [
      "Number of cars where price is an outlier : 23566\n",
      "Number of cars where odometer is an outlier : 0\n",
      "Number of cars where year is an outlier : 11724\n"
     ]
    }
   ],
   "source": [
    "print('Number of cars where price is an outlier :', cars[cars['price'] <= 0].shape[0])\n",
    "print('Number of cars where odometer is an outlier :', cars[cars['odometer'] < lo].shape[0])\n",
    "print('Number of cars where year is an outlier :', cars[cars['year'] < ly].shape[0])"
   ]
  },
  {
   "cell_type": "code",
   "execution_count": 18,
   "metadata": {
    "colab": {
     "base_uri": "https://localhost:8080/"
    },
    "id": "7_Q3qLTgc9Zg",
    "outputId": "0d04d3a7-2d3c-47f0-d363-42abf0be5509"
   },
   "outputs": [
    {
     "data": {
      "text/plain": [
       "46350"
      ]
     },
     "execution_count": 18,
     "metadata": {
      "tags": []
     },
     "output_type": "execute_result"
    }
   ],
   "source": [
    "def remove_outliers(X):\n",
    "    lower, upper = outliers(X['price'])\n",
    "    X = X[(X['price'] <= upper) & (X['price'] > 0)]\n",
    "    return X\n",
    "remove_outliers_y = FunctionTransformer(remove_outliers, validate=False)\n",
    "cars = remove_outliers_y.fit_transform(cars)\n",
    "cars['price'].max()    \n",
    "\n"
   ]
  },
  {
   "cell_type": "markdown",
   "metadata": {
    "id": "WAS4x9wsdSpb"
   },
   "source": [
    "Removed outliers from the target as all the transformations in the pipeline will be applied to the features not the target"
   ]
  },
  {
   "cell_type": "code",
   "execution_count": 19,
   "metadata": {
    "colab": {
     "base_uri": "https://localhost:8080/",
     "height": 508
    },
    "id": "oo7uHL4OC5UJ",
    "outputId": "8069760f-dbfe-4a03-bcc8-cf22552fd758"
   },
   "outputs": [
    {
     "data": {
      "image/png": "[encoded data removed]",
      "text/plain": [
       "<Figure size 864x576 with 1 Axes>"
      ]
     },
     "metadata": {
      "needs_background": "light",
      "tags": []
     },
     "output_type": "display_data"
    }
   ],
   "source": [
    "# Visualizing the target variable after removing outliers\n",
    "y = cars['price']\n",
    "plt.figure(figsize=(12,8))\n",
    "sns.distplot(y, label=f'train target, skew: {y.skew():.2f}')\n",
    "plt.legend(loc='best')\n",
    "plt.show()"
   ]
  },
  {
   "cell_type": "code",
   "execution_count": 20,
   "metadata": {
    "colab": {
     "base_uri": "https://localhost:8080/"
    },
    "id": "flmTMhxgC5UJ",
    "outputId": "9f3fb864-8b9c-4f63-911b-917af2727b7b"
   },
   "outputs": [
    {
     "data": {
      "text/plain": [
       "14606.0"
      ]
     },
     "execution_count": 20,
     "metadata": {
      "tags": []
     },
     "output_type": "execute_result"
    }
   ],
   "source": [
    "#The mean value of the target: to compare rmse of models to it\n",
    "np.round(y.mean())"
   ]
  },
  {
   "cell_type": "code",
   "execution_count": 21,
   "metadata": {
    "colab": {
     "base_uri": "https://localhost:8080/"
    },
    "id": "DQWQIuDjC5UK",
    "outputId": "be77b06f-65ba-4478-c77f-2b8ebdbd1955"
   },
   "outputs": [
    {
     "name": "stdout",
     "output_type": "stream",
     "text": [
      "Number of records after removing the price outliers is: 288265 records, and 18 features \n"
     ]
    },
    {
     "data": {
      "text/plain": [
       "False    288265\n",
       "dtype: int64"
      ]
     },
     "execution_count": 21,
     "metadata": {
      "tags": []
     },
     "output_type": "execute_result"
    }
   ],
   "source": [
    "print(\"Number of records after removing the price outliers is: {} records, and {} features \".format(cars.shape[0],cars.shape[1]))\n",
    "#Checking for duplicates\n",
    "cars.duplicated().value_counts()"
   ]
  },
  {
   "cell_type": "markdown",
   "metadata": {
    "id": "elgF7XiRC5UK"
   },
   "source": [
    "# Base Line System"
   ]
  },
  {
   "cell_type": "markdown",
   "metadata": {
    "id": "sxTC21MkdSpc"
   },
   "source": [
    "Started with a baseline model and dropped some columns that seem to not have any predicting power or seem redundancy like 'id', 'posting_date', 'lat','long' and so on"
   ]
  },
  {
   "cell_type": "code",
   "execution_count": 22,
   "metadata": {
    "id": "uQTrlsF6C5UK"
   },
   "outputs": [],
   "source": [
    "X = cars.drop(['id','price','posting_date','lat','long','model','region'], axis=1)\n",
    "y = cars['price']"
   ]
  },
  {
   "cell_type": "code",
   "execution_count": 23,
   "metadata": {
    "id": "UmeQnjXTC5UK"
   },
   "outputs": [],
   "source": [
    "num_vars = X.select_dtypes(include=['float', 'int']).columns.tolist()\n",
    "cat_vars = X.select_dtypes(include=['object']).columns.tolist()"
   ]
  },
  {
   "cell_type": "code",
   "execution_count": 24,
   "metadata": {
    "id": "zuKA7GGzC5UL"
   },
   "outputs": [],
   "source": [
    "#Defining categorical columns and numerical columns separately\n",
    "X_cat = X[[c for c in X.columns if c in cat_vars]]\n",
    "X_num = X[[c for c in X.columns if c in num_vars]]"
   ]
  },
  {
   "cell_type": "markdown",
   "metadata": {
    "id": "w0JoMvHzdSpe"
   },
   "source": [
    "Did some basis preprocessing in order to train a Linear regression model as a baseline model"
   ]
  },
  {
   "cell_type": "code",
   "execution_count": 25,
   "metadata": {
    "id": "RGe5EPSIC5UL"
   },
   "outputs": [],
   "source": [
    "# deal with missing values in categorical columns\n",
    "# fill these with 'Missing'\n",
    "def fill_cat_na(X):\n",
    "    cat_vars_with_na = [col for col in X if (X[col].dtypes == \"object\") & (X[col].isna().sum() > 0)]\n",
    "    for var in cat_vars_with_na:\n",
    "        X[var] = X[var].fillna('Missing')\n",
    "    return X\n",
    "    \n",
    "fill_cat = FunctionTransformer(fill_cat_na, validate=False)\n"
   ]
  },
  {
   "cell_type": "code",
   "execution_count": 26,
   "metadata": {
    "id": "jk7ofoHHC5UL"
   },
   "outputs": [],
   "source": [
    "#Encoding categorical features with OneHotEncoding\n",
    "cat_encoder = OneHotEncoder(sparse=False,handle_unknown='ignore')"
   ]
  },
  {
   "cell_type": "code",
   "execution_count": 27,
   "metadata": {
    "id": "3BL6xujcC5UM"
   },
   "outputs": [],
   "source": [
    "#Pipeline for categorical features\n",
    "cat_pipeline = Pipeline([\n",
    "        ('imputer', fill_cat),\n",
    "        ('encoding', cat_encoder),\n",
    "    ])"
   ]
  },
  {
   "cell_type": "code",
   "execution_count": 28,
   "metadata": {
    "id": "vzx9Kl57C5UP"
   },
   "outputs": [],
   "source": [
    "#Adding a numerical column 'age' instead of 'year'\n",
    "def add_age(X):\n",
    "    X['current_yr'] = 2021\n",
    "    X['age'] = X['current_yr'] - X['year']\n",
    "    X = X.drop(['year','current_yr'],axis=1)\n",
    "    return X\n",
    "\n",
    "attr_adder = FunctionTransformer(add_age, validate=False)\n"
   ]
  },
  {
   "cell_type": "code",
   "execution_count": 29,
   "metadata": {
    "id": "wLC8WAMjC5UP"
   },
   "outputs": [],
   "source": [
    "#Imputing missing values and outliers in the numerical columns with the median of each\n",
    "from numpy import percentile\n",
    "def impute_outliers_and_missing(X):\n",
    "    num_vars = X.select_dtypes(include=['float', 'int']).columns.tolist() \n",
    "    for var in num_vars:\n",
    "        median = X[var].median()\n",
    "        X[var].fillna(median, inplace=True) \n",
    "        lower, upper = outliers(X[var])\n",
    "        outliers_list = [x for x in X[var] if x < lower or x > upper]\n",
    "        X[var][X[var].isin(outliers_list)] = median\n",
    "    return X\n",
    "\n",
    "outliers_and_missing_impute = FunctionTransformer(impute_outliers_and_missing, validate=False)\n"
   ]
  },
  {
   "cell_type": "code",
   "execution_count": 30,
   "metadata": {
    "id": "HTS9KGhwC5UR"
   },
   "outputs": [],
   "source": [
    "#Pipeline for numerical features\n",
    "num_pipeline = Pipeline([\n",
    "        ('adder', attr_adder),\n",
    "        ('imputer', outliers_and_missing_impute),\n",
    "      ])"
   ]
  },
  {
   "cell_type": "code",
   "execution_count": 31,
   "metadata": {
    "id": "7UKHBp4fC5UR"
   },
   "outputs": [],
   "source": [
    "#Pipeline to apply on all columns\n",
    "full_pipeline = ColumnTransformer([\n",
    "        (\"num\", num_pipeline, num_vars),\n",
    "        (\"cat\", cat_pipeline, cat_vars),\n",
    "    ])\n"
   ]
  },
  {
   "cell_type": "code",
   "execution_count": 32,
   "metadata": {
    "id": "Y8w4reNyC5US"
   },
   "outputs": [],
   "source": [
    "def display_scores(scores):\n",
    "    print(\"Scores:\", np.round(scores))\n",
    "    print(\"Mean: \", np.round(scores.mean()))\n",
    "    print(\"Stdev:\", np.round(scores.std()))\n"
   ]
  },
  {
   "cell_type": "code",
   "execution_count": 35,
   "metadata": {
    "colab": {
     "base_uri": "https://localhost:8080/"
    },
    "id": "6RDvjrK_C5US",
    "outputId": "180abad3-3d20-4ecc-e5d2-b9850702d94f"
   },
   "outputs": [
    {
     "name": "stdout",
     "output_type": "stream",
     "text": [
      "[-45829069.24041977 -45493136.38215411 -46108941.49478275\n",
      " -45371587.8955183  -46708025.87794687]\n",
      "Scores: [6770. 6745. 6790. 6736. 6834.]\n",
      "Mean:  6775.0\n",
      "Stdev: 35.0\n"
     ]
    }
   ],
   "source": [
    "#Linear Regression Model\n",
    "lin_reg = LinearRegression()\n",
    "\n",
    "pipeline = Pipeline(steps=[('i', full_pipeline), ('m', lin_reg)])\n",
    "cv = KFold(n_splits=5, shuffle=True, random_state=1)\n",
    "# evaluate model\n",
    "scores = cross_val_score(pipeline, X, y, scoring='neg_mean_squared_error', cv=cv, n_jobs=-1)\n",
    "print(scores)\n",
    "lin_rmse_scores = np.sqrt(-scores)\n",
    "display_scores(lin_rmse_scores)"
   ]
  },
  {
   "cell_type": "markdown",
   "metadata": {
    "id": "Hh4dpYJ_dSph"
   },
   "source": [
    "After many trials with different preprocessing techniques like Standard Scaler, Robust Scaler, MinMaxScaler, Power Transformation for outliers and others I found that creating 'age' column instead of 'year' and imputing outliers with median and missing values as well and using OneHotEncoding for categorical features is the combination that gave me lower rmse on the Linear regression model of 6775 and standard deviation of 35.\n",
    "Note: removing outliers within the pipeline would lead to imbalance in samples numbers between X and Y as the pipeline transformations will not apply on Y"
   ]
  },
  {
   "cell_type": "markdown",
   "metadata": {
    "id": "fiGMY8_DC5UU"
   },
   "source": [
    "# Data engineering and preprocessing"
   ]
  },
  {
   "cell_type": "markdown",
   "metadata": {
    "id": "yvzJvA_KdSph"
   },
   "source": [
    "Added some columns again like 'model and 'region' to see if performance would improve"
   ]
  },
  {
   "cell_type": "code",
   "execution_count": 36,
   "metadata": {
    "colab": {
     "base_uri": "https://localhost:8080/"
    },
    "id": "x0NKPZkrC5UU",
    "outputId": "4f770324-911b-40d6-c5aa-a915e188bcce"
   },
   "outputs": [
    {
     "data": {
      "text/plain": [
       "((288265, 13), 288265)"
      ]
     },
     "execution_count": 36,
     "metadata": {
      "tags": []
     },
     "output_type": "execute_result"
    }
   ],
   "source": [
    "X = cars.drop(['id','price','lat','long','posting_date'], axis=1)\n",
    "y = cars['price']\n",
    "X.shape, len(y)"
   ]
  },
  {
   "cell_type": "code",
   "execution_count": 37,
   "metadata": {
    "id": "YS3kSDeQC5UU"
   },
   "outputs": [],
   "source": [
    "num_vars = X.select_dtypes(include=['float', 'int']).columns.tolist()\n",
    "cat_vars = X.select_dtypes(include=['object']).columns.tolist()\n",
    "X_cat = X[[c for c in X.columns if c in cat_vars]]\n",
    "X_num = X[[c for c in X.columns if c in num_vars]]"
   ]
  },
  {
   "cell_type": "code",
   "execution_count": 38,
   "metadata": {
    "id": "rcgtOk6gC5UU"
   },
   "outputs": [],
   "source": [
    "#Assigning rare categories that have frequency less than min_perc to one category called 'rare' and removing categorical features with 1 category.\n",
    "    \n",
    "def engineer_rare_cat_vars(X,cat_vars=cat_vars, min_perc=0.002):\n",
    "    to_drop = []\n",
    "    for col in cat_vars:\n",
    "            # Find percentage of categories\n",
    "        percs = X[col].value_counts(normalize=True)\n",
    "            \n",
    "            # rare categories are the ones having a % smaller than min_perc\n",
    "        rare_categories = percs[percs < min_perc].index\n",
    "            \n",
    "            # Replace these with \"Rare\"\n",
    "        X.loc[X[col].isin(rare_categories), col] = \"Rare\"\n",
    "            \n",
    "        if X[col].nunique() < 2:\n",
    "            to_drop.append(col)\n",
    "    \n",
    "    # drop columns containing one category if they exist\n",
    "    if to_drop:\n",
    "        X.drop(columns=to_drop, inplace=True)\n",
    "    \n",
    "\n",
    "    return X"
   ]
  },
  {
   "cell_type": "code",
   "execution_count": 39,
   "metadata": {
    "id": "0n4s1wpYC5UV"
   },
   "outputs": [],
   "source": [
    "engineer_rare_cat = FunctionTransformer(engineer_rare_cat_vars, validate=False)\n"
   ]
  },
  {
   "cell_type": "code",
   "execution_count": 40,
   "metadata": {
    "id": "A3ZwYyw7C5UV"
   },
   "outputs": [],
   "source": [
    "#Updated pipeline for categorical features\n",
    "cat_pipeline_new = Pipeline([\n",
    "        ('engineering', engineer_rare_cat ),\n",
    "        ('imputer', fill_cat),\n",
    "        ('encoding', cat_encoder),\n",
    "    ])"
   ]
  },
  {
   "cell_type": "code",
   "execution_count": 41,
   "metadata": {
    "id": "ajU91reGC5UX"
   },
   "outputs": [],
   "source": [
    "#Updated pipeline for all columns\n",
    "full_pipeline = ColumnTransformer([\n",
    "        (\"num\", num_pipeline, num_vars),\n",
    "        (\"cat\", cat_pipeline_new, cat_vars),\n",
    "    ])"
   ]
  },
  {
   "cell_type": "code",
   "execution_count": 42,
   "metadata": {
    "colab": {
     "base_uri": "https://localhost:8080/"
    },
    "id": "rEbSk80TC5UY",
    "outputId": "0ed0e7e4-a576-42d0-82dc-0442d3a18185"
   },
   "outputs": [
    {
     "name": "stdout",
     "output_type": "stream",
     "text": [
      "[-43842337.92205667 -44118201.10805392 -44316777.13505259\n",
      " -43914646.6199821  -45217882.72474106]\n",
      "Scores: [6621. 6642. 6657. 6627. 6724.]\n",
      "Mean:  6654.0\n",
      "Stdev: 37.0\n"
     ]
    }
   ],
   "source": [
    "#Training Linear regression model after the final preprocessing and feature engineering\n",
    "lin_reg = LinearRegression()\n",
    "pipeline_l = Pipeline(steps=[('i', full_pipeline), ('l', lin_reg)])\n",
    "# define model evaluation\n",
    "cv = KFold(n_splits=5, shuffle=True, random_state=1)\n",
    "scores = cross_val_score(pipeline_l, X, y, scoring='neg_mean_squared_error', cv=cv, n_jobs=-1)\n",
    "print(scores)\n",
    "lin_rmse_scores = np.sqrt(-scores)\n",
    "display_scores(lin_rmse_scores)"
   ]
  },
  {
   "cell_type": "markdown",
   "metadata": {
    "id": "ra-OzFn1dSpk"
   },
   "source": [
    "After adding categorical feature engineering to the pipeline, the rmse of the baseline model lowered to 6654 with a standard deviation of 37"
   ]
  },
  {
   "cell_type": "markdown",
   "metadata": {
    "id": "Fs1RQAUBC5UZ"
   },
   "source": [
    "# Model Optimization and Selection"
   ]
  },
  {
   "cell_type": "code",
   "execution_count": null,
   "metadata": {
    "colab": {
     "base_uri": "https://localhost:8080/"
    },
    "id": "YQKGDiN6C5UZ",
    "outputId": "ee93e735-6b71-496a-d85d-b12a0e1289fc"
   },
   "outputs": [
    {
     "name": "stdout",
     "output_type": "stream",
     "text": [
      "Scores: [5465. 5405. 5488. 5502. 5459.]\n",
      "Mean:  5464.0\n",
      "Stdev: 33.0\n"
     ]
    }
   ],
   "source": [
    "#DecisionTreeRegressor\n",
    "from sklearn.tree import DecisionTreeRegressor\n",
    "tree_reg = DecisionTreeRegressor(random_state=42)\n",
    "pipeline_t = Pipeline(steps=[('i', full_pipeline), ('t', tree_reg)])\n",
    "scores = cross_val_score(pipeline_t, X, y,\n",
    "                         scoring=\"neg_mean_squared_error\", cv=5)\n",
    "tree_rmse_scores = np.sqrt(-scores)\n",
    "display_scores(tree_rmse_scores)"
   ]
  },
  {
   "cell_type": "code",
   "execution_count": null,
   "metadata": {
    "colab": {
     "base_uri": "https://localhost:8080/"
    },
    "id": "LGtxr-7hC5UZ",
    "outputId": "16ddf9c6-bbd3-4423-e71c-c84103985123"
   },
   "outputs": [
    {
     "name": "stdout",
     "output_type": "stream",
     "text": [
      "Scores: [4337. 4335. 4353. 4418. 4404.]\n",
      "Mean:  4369.0\n",
      "Stdev: 35.0\n"
     ]
    }
   ],
   "source": [
    "#RandomForestRegressor\n",
    "from sklearn.ensemble import RandomForestRegressor\n",
    "forest_reg = RandomForestRegressor(n_estimators=10, random_state=42)\n",
    "pipeline_f = Pipeline(steps=[('i', full_pipeline), ('f', forest_reg)])\n",
    "forest_scores = cross_val_score(pipeline_f, X, y,\n",
    "                                scoring=\"neg_mean_squared_error\", cv=5)\n",
    "forest_rmse_scores = np.sqrt(-forest_scores)\n",
    "display_scores(forest_rmse_scores)"
   ]
  },
  {
   "cell_type": "code",
   "execution_count": null,
   "metadata": {
    "colab": {
     "base_uri": "https://localhost:8080/"
    },
    "id": "J8UFHf97C5UZ",
    "outputId": "280bd7a9-2cee-40da-fd29-6f9eb7ab5b5f"
   },
   "outputs": [
    {
     "name": "stdout",
     "output_type": "stream",
     "text": [
      "Scores: [7995. 8024. 8016. 8033. 7998.]\n",
      "Mean:  8013.0\n",
      "Stdev: 15.0\n"
     ]
    }
   ],
   "source": [
    "#GradientBoostingRegressor\n",
    "from sklearn.ensemble import GradientBoostingRegressor\n",
    "gb_reg = GradientBoostingRegressor(random_state= 42, n_estimators=10)\n",
    "pipeline_g = Pipeline(steps=[('i', full_pipeline), ('g', gb_reg)])\n",
    "gbr_scores = cross_val_score(pipeline_g, X, y,\n",
    "                                scoring=\"neg_mean_squared_error\", cv=5)\n",
    "gbr_rmse_scores = np.sqrt(-gbr_scores)\n",
    "display_scores(gbr_rmse_scores)"
   ]
  },
  {
   "cell_type": "markdown",
   "metadata": {
    "id": "e99HAWopdSpm"
   },
   "source": [
    "Trained data with 5-fold cross validations on the previous models as well as SVR with kernel=\"linear\" and LinearSVR but the last two were very slow and memory consuming so I dropped them from my experiments and since RandomForestregressor resulted in the lowest rmse of 4369 with a standard deviation of 35, I wanted to optimize it more using Gridsearch by changing n_estimators and max_features hyperparameters"
   ]
  },
  {
   "cell_type": "code",
   "execution_count": 43,
   "metadata": {
    "colab": {
     "base_uri": "https://localhost:8080/"
    },
    "id": "dxtbLFLu7N06",
    "outputId": "3cf4ef54-7433-485f-8c9c-9b97efb00284"
   },
   "outputs": [
    {
     "data": {
      "text/plain": [
       "Pipeline(memory=None,\n",
       "         steps=[('i',\n",
       "                 ColumnTransformer(n_jobs=None, remainder='drop',\n",
       "                                   sparse_threshold=0.3,\n",
       "                                   transformer_weights=None,\n",
       "                                   transformers=[('num',\n",
       "                                                  Pipeline(memory=None,\n",
       "                                                           steps=[('adder',\n",
       "                                                                   FunctionTransformer(accept_sparse=False,\n",
       "                                                                                       check_inverse=True,\n",
       "                                                                                       func=<function add_age at 0x7fd1b7f927a0>,\n",
       "                                                                                       inv_kw_args=None,\n",
       "                                                                                       inverse_func=None,\n",
       "                                                                                       kw_args=None,\n",
       "                                                                                       validate=False)),\n",
       "                                                                  ('i...\n",
       "                                                              min_samples_leaf=1,\n",
       "                                                              min_samples_split=2,\n",
       "                                                              min_weight_fraction_leaf=0.0,\n",
       "                                                              n_estimators=100,\n",
       "                                                              n_jobs=None,\n",
       "                                                              oob_score=False,\n",
       "                                                              random_state=42,\n",
       "                                                              verbose=0,\n",
       "                                                              warm_start=False),\n",
       "                              iid='deprecated', n_jobs=None,\n",
       "                              param_grid=[{'max_features': [100, 300],\n",
       "                                           'n_estimators': [10, 50]}],\n",
       "                              pre_dispatch='2*n_jobs', refit=True,\n",
       "                              return_train_score=True,\n",
       "                              scoring='neg_mean_squared_error', verbose=0))],\n",
       "         verbose=False)"
      ]
     },
     "execution_count": 43,
     "metadata": {
      "tags": []
     },
     "output_type": "execute_result"
    }
   ],
   "source": [
    "from sklearn.model_selection import GridSearchCV\n",
    "\n",
    "param_grid = [\n",
    "    {'n_estimators': [10, 50], 'max_features': [100, 300]},\n",
    "  ]\n",
    "\n",
    "forest_reg = RandomForestRegressor(random_state=42)\n",
    "# train across 5 folds, that's a total of (4)*5=20 rounds of training \n",
    "grid_search = Pipeline([('i', full_pipeline), ('grid_search', GridSearchCV(forest_reg, param_grid, cv=5,\n",
    "                           scoring='neg_mean_squared_error', return_train_score=True))])\n",
    "\n",
    "grid_search.fit(X, y)"
   ]
  },
  {
   "cell_type": "code",
   "execution_count": 44,
   "metadata": {
    "colab": {
     "base_uri": "https://localhost:8080/"
    },
    "id": "BASIRQg4C5Ua",
    "outputId": "164fee8f-d61f-4163-f3e9-0dff4c852f0e"
   },
   "outputs": [
    {
     "data": {
      "text/plain": [
       "{'max_features': 100, 'n_estimators': 50}"
      ]
     },
     "execution_count": 44,
     "metadata": {
      "tags": []
     },
     "output_type": "execute_result"
    }
   ],
   "source": [
    "grid_search.named_steps['grid_search'].best_params_"
   ]
  },
  {
   "cell_type": "code",
   "execution_count": 45,
   "metadata": {
    "colab": {
     "base_uri": "https://localhost:8080/"
    },
    "id": "x6cd9c9zC5Ua",
    "outputId": "45e0f3cf-c24d-42d0-cc52-89d830ae6c2c"
   },
   "outputs": [
    {
     "data": {
      "text/plain": [
       "RandomForestRegressor(bootstrap=True, ccp_alpha=0.0, criterion='mse',\n",
       "                      max_depth=None, max_features=100, max_leaf_nodes=None,\n",
       "                      max_samples=None, min_impurity_decrease=0.0,\n",
       "                      min_impurity_split=None, min_samples_leaf=1,\n",
       "                      min_samples_split=2, min_weight_fraction_leaf=0.0,\n",
       "                      n_estimators=50, n_jobs=None, oob_score=False,\n",
       "                      random_state=42, verbose=0, warm_start=False)"
      ]
     },
     "execution_count": 45,
     "metadata": {
      "tags": []
     },
     "output_type": "execute_result"
    }
   ],
   "source": [
    "grid_search.named_steps['grid_search'].best_estimator_"
   ]
  },
  {
   "cell_type": "code",
   "execution_count": 46,
   "metadata": {
    "colab": {
     "base_uri": "https://localhost:8080/"
    },
    "id": "IRTvM0OLmpb6",
    "outputId": "11472b11-52a7-48c6-cee5-5f7da8079578"
   },
   "outputs": [
    {
     "name": "stdout",
     "output_type": "stream",
     "text": [
      "score = 4181.0 <- parameters {'max_features': 100, 'n_estimators': 10}\n",
      "score = 3987.0 <- parameters {'max_features': 100, 'n_estimators': 50}\n",
      "score = 4238.0 <- parameters {'max_features': 300, 'n_estimators': 10}\n",
      "score = 4076.0 <- parameters {'max_features': 300, 'n_estimators': 50}\n"
     ]
    }
   ],
   "source": [
    "grid_cv_res = grid_search.named_steps['grid_search'].cv_results_\n",
    "for mean_score, params in zip(grid_cv_res[\"mean_test_score\"], grid_cv_res[\"params\"]):\n",
    "    print(f\"score = {np.round(np.sqrt(-mean_score))} <- parameters {params}\")"
   ]
  },
  {
   "cell_type": "markdown",
   "metadata": {
    "id": "TaxmPuiMdSpn"
   },
   "source": [
    "So the optimzed model based on GridSearch was RandomForestRegressor with max_feature of 100 and n_estimators of 50 with the lowest rmse of 3987 "
   ]
  },
  {
   "cell_type": "markdown",
   "metadata": {
    "id": "sVPEteEbGjZd"
   },
   "source": [
    "# Feature Selection"
   ]
  },
  {
   "cell_type": "code",
   "execution_count": null,
   "metadata": {
    "colab": {
     "base_uri": "https://localhost:8080/"
    },
    "id": "wgYxMhh34oUZ",
    "outputId": "6a744f3a-f1cd-424c-da09-00aa0a0add80"
   },
   "outputs": [
    {
     "name": "stdout",
     "output_type": "stream",
     "text": [
      "393\n"
     ]
    },
    {
     "data": {
      "text/plain": [
       "array([1.79263968e-01, 2.72541748e-01, 3.39003392e-03, 6.19125942e-04,\n",
       "       2.75029700e-04, 2.70518046e-04, 3.50880334e-04, 4.05246302e-04,\n",
       "       1.26373294e-04, 1.31499165e-04, 2.58296851e-04, 3.29984875e-04,\n",
       "       3.92988286e-04, 3.89664594e-04, 2.79397168e-04, 5.43429492e-04,\n",
       "       9.38565119e-04, 3.37952861e-04, 2.64794884e-04, 4.84276219e-04,\n",
       "       4.96522050e-04, 1.83705465e-04, 1.97862586e-04, 3.54862746e-04,\n",
       "       2.16906664e-04, 6.43810969e-04, 1.45756894e-04, 9.72148823e-04,\n",
       "       1.32667855e-04, 3.14968271e-04, 3.82361069e-04, 3.19599830e-04,\n",
       "       1.33320625e-04, 7.42801196e-05, 4.40091274e-04, 1.34130224e-04,\n",
       "       4.91880700e-04, 5.15403906e-04, 2.27461637e-04, 4.35037169e-04,\n",
       "       5.62942043e-05, 3.36612195e-04, 2.51814137e-04, 8.43678465e-04,\n",
       "       1.08137814e-04, 3.25054800e-04, 1.07580396e-04, 4.63222802e-04,\n",
       "       8.26484742e-04, 1.90841874e-04, 3.42230567e-04, 1.75777868e-04,\n",
       "       1.12412014e-04, 2.44254123e-04, 7.23528996e-05, 9.05380545e-05,\n",
       "       3.92399853e-04, 4.25422641e-04, 2.04603499e-04, 1.37084107e-04,\n",
       "       1.68244829e-04, 3.45393223e-04, 1.02242373e-04, 2.76049167e-04,\n",
       "       6.62051797e-04, 6.81091255e-04, 2.28854087e-04, 2.58671313e-04,\n",
       "       2.83861931e-04, 7.95397947e-04, 1.40744285e-04, 4.66771119e-04,\n",
       "       1.38971818e-04, 1.31022717e-04, 3.97045406e-04, 2.19711255e-04,\n",
       "       7.52332420e-04, 2.97568049e-04, 3.15578751e-04, 1.09304165e-04,\n",
       "       1.20314153e-04, 3.14031173e-04, 1.18229478e-04, 1.10409047e-04,\n",
       "       1.04436295e-04, 2.23535108e-04, 9.09130702e-04, 5.23112308e-04,\n",
       "       2.52209604e-04, 2.39426836e-04, 9.69305575e-04, 8.72338833e-04,\n",
       "       4.89682657e-04, 1.98364912e-04, 1.84582091e-04, 2.86359864e-04,\n",
       "       4.26934464e-04, 1.27497745e-04, 6.76159533e-04, 5.13561365e-04,\n",
       "       1.34837995e-04, 4.50600577e-04, 8.49873872e-04, 1.93663700e-04,\n",
       "       3.55031046e-04, 7.22756714e-04, 1.95836227e-04, 5.06532647e-04,\n",
       "       8.85612100e-05, 7.43941118e-04, 3.99749499e-04, 3.24762644e-04,\n",
       "       4.62119040e-04, 5.14391944e-04, 3.98054942e-04, 2.46933613e-04,\n",
       "       4.46747153e-04, 3.86104234e-04, 9.27470891e-04, 2.23930987e-04,\n",
       "       4.93469746e-04, 4.66992296e-04, 2.02780593e-04, 2.36362725e-04,\n",
       "       6.41589344e-05, 2.22204329e-04, 5.82673239e-04, 6.56182891e-04,\n",
       "       5.75368442e-05, 2.21620686e-03, 5.09107307e-04, 4.20721579e-04,\n",
       "       3.42899071e-04, 2.00139182e-04, 4.16048027e-04, 4.82969816e-05,\n",
       "       4.82789939e-04, 1.23390955e-04, 9.08649020e-05, 8.64040290e-04,\n",
       "       4.32618846e-04, 1.75519402e-04, 7.80526598e-04, 2.99492853e-04,\n",
       "       1.01734033e-04, 3.20745675e-04, 4.85481158e-04, 1.52053456e-04,\n",
       "       2.55484380e-04, 3.47818306e-04, 1.12849356e-04, 2.75460635e-04,\n",
       "       1.60800730e-04, 2.31837804e-04, 2.18933910e-04, 2.03909248e-04,\n",
       "       3.72171689e-04, 7.23718908e-04, 2.44973166e-04, 1.94625712e-04,\n",
       "       7.43205582e-05, 3.01165670e-04, 5.64688948e-04, 2.22344516e-04,\n",
       "       1.89983054e-04, 9.05288212e-05, 2.56523188e-04, 1.56098581e-04,\n",
       "       5.40583211e-04, 8.40556184e-05, 1.02773399e-04, 1.20281601e-04,\n",
       "       5.09929317e-03, 3.19134262e-04, 6.60474843e-04, 1.84267459e-03,\n",
       "       3.06867674e-03, 5.19340643e-04, 2.11303605e-03, 4.70716519e-03,\n",
       "       7.42421362e-04, 2.52872548e-03, 1.47518367e-04, 5.54199393e-03,\n",
       "       3.01776866e-03, 1.47255918e-03, 1.37928012e-03, 5.36624847e-04,\n",
       "       3.97417255e-04, 2.50649493e-03, 1.34480912e-03, 2.23129659e-03,\n",
       "       5.85583393e-04, 5.21831849e-04, 3.40462138e-03, 2.20361501e-04,\n",
       "       3.84033084e-04, 6.76806987e-04, 3.19348011e-03, 4.81812191e-04,\n",
       "       3.10164422e-03, 4.79941490e-03, 1.26001955e-03, 3.52069681e-05,\n",
       "       1.13054674e-03, 2.41174211e-03, 4.29681255e-03, 1.65072476e-03,\n",
       "       7.40716336e-04, 8.65574331e-04, 6.48557723e-05, 7.74177114e-04,\n",
       "       1.01976344e-04, 4.98171402e-04, 2.66032714e-04, 9.53568186e-04,\n",
       "       5.28946742e-03, 1.48972213e-04, 1.28247780e-04, 1.45737542e-04,\n",
       "       1.33425462e-04, 3.62146679e-04, 2.35620500e-04, 5.90727193e-04,\n",
       "       2.64818718e-04, 1.25173968e-04, 2.24099198e-04, 1.93786994e-04,\n",
       "       1.26530695e-03, 1.71698178e-04, 3.06564007e-04, 1.76100760e-04,\n",
       "       2.29214855e-04, 1.12134204e-04, 9.71416647e-05, 3.56697035e-04,\n",
       "       4.94672461e-04, 2.88232788e-04, 4.22434412e-04, 1.69157890e-03,\n",
       "       3.01834983e-04, 7.59614633e-04, 1.55775337e-04, 3.22346851e-04,\n",
       "       5.04131736e-05, 2.80862914e-04, 1.13498429e-04, 1.37579931e-04,\n",
       "       2.48052652e-04, 2.42469724e-04, 1.72882400e-04, 1.06335169e-04,\n",
       "       1.42546845e-04, 1.64518935e-04, 8.57847074e-05, 2.00616494e-04,\n",
       "       6.94479295e-05, 5.08400841e-04, 1.48562944e-04, 4.88157992e-05,\n",
       "       8.41259536e-05, 6.29037383e-05, 1.13079236e-04, 1.15258402e-04,\n",
       "       7.02253217e-05, 2.74411909e-04, 1.32187263e-04, 1.18845117e-04,\n",
       "       2.29773283e-04, 1.78745391e-04, 2.59523576e-04, 5.87942639e-04,\n",
       "       1.21593598e-03, 6.88696714e-04, 4.29563717e-05, 1.45392942e-04,\n",
       "       3.90209061e-04, 6.20597103e-04, 9.51865073e-04, 6.95627221e-05,\n",
       "       5.29033564e-05, 4.26821078e-04, 3.13931946e-04, 1.56902880e-03,\n",
       "       1.36094431e-03, 1.29048218e-04, 7.31264469e-03, 5.80843056e-03,\n",
       "       5.33847625e-03, 8.42022278e-03, 1.86562581e-03, 5.29693761e-04,\n",
       "       2.36663939e-04, 3.02602717e-03, 2.68069178e-02, 1.92669815e-04,\n",
       "       6.81527335e-03, 2.43945174e-02, 6.93495272e-03, 2.90529673e-04,\n",
       "       2.77260359e-04, 4.07793590e-04, 2.37799874e-02, 7.86506437e-04,\n",
       "       1.83999485e-02, 7.75949518e-04, 2.07835921e-03, 4.06970049e-04,\n",
       "       4.63555810e-03, 2.97430901e-03, 1.23104907e-02, 2.77182972e-02,\n",
       "       8.80585726e-03, 3.71963246e-02, 7.46855649e-03, 6.16319129e-03,\n",
       "       4.26808741e-04, 4.72091240e-03, 1.07188029e-03, 2.11495104e-03,\n",
       "       1.52783342e-03, 2.56212172e-04, 2.48998457e-04, 5.77017659e-03,\n",
       "       2.68180486e-02, 6.75002642e-03, 6.79710240e-03, 1.87329719e-03,\n",
       "       7.28374323e-04, 9.04842370e-03, 2.82906867e-03, 1.61028591e-03,\n",
       "       4.81215594e-04, 7.15211702e-04, 6.45250522e-04, 1.46178868e-03,\n",
       "       3.44472883e-04, 1.27634321e-04, 1.79672563e-03, 1.76724444e-03,\n",
       "       4.27000076e-03, 4.84348758e-04, 5.08989620e-04, 5.95952082e-04,\n",
       "       5.84852716e-04, 4.38555946e-04, 8.78237165e-04, 4.06737549e-03,\n",
       "       9.34819429e-04, 5.04993833e-04, 1.91659734e-04, 5.07324119e-05,\n",
       "       2.98307601e-03, 5.56774100e-04, 6.23791721e-04, 8.50770228e-04,\n",
       "       2.32418233e-03, 1.13457080e-03, 4.22133524e-04, 4.05399750e-04,\n",
       "       4.11464498e-04, 6.92388585e-04, 1.11677961e-03, 4.09898903e-04,\n",
       "       9.30123923e-04, 1.67277862e-03, 6.36762644e-04, 4.79621148e-04,\n",
       "       1.48986721e-04, 2.03966498e-03, 1.49194887e-03, 2.12869320e-04,\n",
       "       8.85206866e-04, 9.99088704e-04, 4.71377396e-04, 3.07915611e-04,\n",
       "       1.33049466e-03, 1.19603926e-03, 4.73771176e-04, 4.35505657e-03,\n",
       "       8.20322103e-04, 1.76034011e-04, 5.78536647e-04, 3.13728026e-04,\n",
       "       8.02267971e-04, 2.05792702e-03, 3.97286488e-04, 5.29708646e-04,\n",
       "       5.79068468e-04, 2.25819598e-03, 9.63729996e-04, 9.59766503e-05,\n",
       "       1.41369524e-04])"
      ]
     },
     "execution_count": 50,
     "metadata": {
      "tags": []
     },
     "output_type": "execute_result"
    }
   ],
   "source": [
    "#Getting feature importances from GridSearch\n",
    "feature_importances = grid_search.named_steps['grid_search'].best_estimator_.feature_importances_\n",
    "print(len(feature_importances))\n",
    "feature_importances"
   ]
  },
  {
   "cell_type": "code",
   "execution_count": null,
   "metadata": {
    "colab": {
     "base_uri": "https://localhost:8080/"
    },
    "id": "c_4yUNkrEkw-",
    "outputId": "9de0dde7-bda2-4193-9446-4741882644f4"
   },
   "outputs": [
    {
     "data": {
      "text/plain": [
       "393"
      ]
     },
     "execution_count": 51,
     "metadata": {
      "tags": []
     },
     "output_type": "execute_result"
    }
   ],
   "source": [
    "#Getting names of columns after all the transformations including OneHotEncoding\n",
    "X_cat1 = X_cat.copy()\n",
    "X_cat1= cat_pipeline_new.fit_transform(X_cat1)\n",
    "cat_cols_ohe = list(cat_encoder.get_feature_names(input_features=cat_vars))\n",
    "col_names = ['odometer','age'] + cat_cols_ohe \n",
    "len(col_names)\n"
   ]
  },
  {
   "cell_type": "markdown",
   "metadata": {
    "id": "n74yzBOGl9pa"
   },
   "source": [
    "There are now 393 features after all transformations so i tried to reduce them based on feature importance "
   ]
  },
  {
   "cell_type": "code",
   "execution_count": null,
   "metadata": {
    "colab": {
     "base_uri": "https://localhost:8080/",
     "height": 142
    },
    "id": "4qmkjAeO-qSu",
    "outputId": "95ee6b35-2fd0-497f-d0d9-50733a0ec679"
   },
   "outputs": [
    {
     "data": {
      "text/html": [
       "<div>\n",
       "<style scoped>\n",
       "    .dataframe tbody tr th:only-of-type {\n",
       "        vertical-align: middle;\n",
       "    }\n",
       "\n",
       "    .dataframe tbody tr th {\n",
       "        vertical-align: top;\n",
       "    }\n",
       "\n",
       "    .dataframe thead th {\n",
       "        text-align: right;\n",
       "    }\n",
       "</style>\n",
       "<table border=\"1\" class=\"dataframe\">\n",
       "  <thead>\n",
       "    <tr style=\"text-align: right;\">\n",
       "      <th></th>\n",
       "      <th>Value</th>\n",
       "      <th>Feature</th>\n",
       "    </tr>\n",
       "  </thead>\n",
       "  <tbody>\n",
       "    <tr>\n",
       "      <th>392</th>\n",
       "      <td>0.272542</td>\n",
       "      <td>age</td>\n",
       "    </tr>\n",
       "    <tr>\n",
       "      <th>391</th>\n",
       "      <td>0.179264</td>\n",
       "      <td>odometer</td>\n",
       "    </tr>\n",
       "    <tr>\n",
       "      <th>390</th>\n",
       "      <td>0.037196</td>\n",
       "      <td>drive_fwd</td>\n",
       "    </tr>\n",
       "  </tbody>\n",
       "</table>\n",
       "</div>"
      ],
      "text/plain": [
       "        Value    Feature\n",
       "392  0.272542        age\n",
       "391  0.179264   odometer\n",
       "390  0.037196  drive_fwd"
      ]
     },
     "execution_count": 52,
     "metadata": {
      "tags": []
     },
     "output_type": "execute_result"
    }
   ],
   "source": [
    "#Sorting features based on importance and defining the top three features\n",
    "feature_imp = pd.DataFrame(sorted(zip(grid_search.named_steps['grid_search'].best_estimator_.feature_importances_, col_names)), columns=['Value','Feature'])\n",
    "features_df = feature_imp.sort_values(by=\"Value\", ascending=False)\n",
    "features_df.head(3)"
   ]
  },
  {
   "cell_type": "markdown",
   "metadata": {
    "id": "wG_0LeJxdSpo"
   },
   "source": [
    "The top three powerful predictors are 'age','odometer' and 'drive_fwd'"
   ]
  },
  {
   "cell_type": "code",
   "execution_count": null,
   "metadata": {
    "colab": {
     "base_uri": "https://localhost:8080/"
    },
    "id": "HhGPNFNKKBvw",
    "outputId": "be18177a-7053-4cd0-9461-31e34433e894"
   },
   "outputs": [
    {
     "data": {
      "text/plain": [
       "392                          age\n",
       "391                     odometer\n",
       "390                    drive_fwd\n",
       "389                    drive_4wd\n",
       "388                  type_pickup\n",
       "                 ...            \n",
       "297    region_mcallen / edinburg\n",
       "296                   model_1500\n",
       "295         region_south florida\n",
       "294                     state_ia\n",
       "293         region_new hampshire\n",
       "Name: Feature, Length: 100, dtype: object"
      ]
     },
     "execution_count": 53,
     "metadata": {
      "tags": []
     },
     "output_type": "execute_result"
    }
   ],
   "source": [
    "#The selected features as the top 100 important features\n",
    "selected_features = features_df.Feature[:100]\n",
    "selected_features\n"
   ]
  },
  {
   "cell_type": "code",
   "execution_count": null,
   "metadata": {
    "id": "Mt2uWROuJyJV"
   },
   "outputs": [],
   "source": [
    "#Dropping less important features\n",
    "def drop_features(X):\n",
    "    X= pd.DataFrame(X, columns= col_names)\n",
    "    X= X[selected_features]\n",
    "    return X\n",
    "features_drop = FunctionTransformer(drop_features, validate=False)\n"
   ]
  },
  {
   "cell_type": "code",
   "execution_count": null,
   "metadata": {
    "id": "K5cSj988SnO6"
   },
   "outputs": [],
   "source": [
    "#The final pipeline after dropping less important features\n",
    "final_pipeline = Pipeline([\n",
    "        ('full', full_pipeline),\n",
    "        ('drop_f', features_drop),\n",
    "    ])"
   ]
  },
  {
   "cell_type": "code",
   "execution_count": null,
   "metadata": {
    "colab": {
     "base_uri": "https://localhost:8080/"
    },
    "id": "YnJi6DDYKuKU",
    "outputId": "dc46907f-4093-4b72-ecd7-17183a411f28"
   },
   "outputs": [
    {
     "data": {
      "text/plain": [
       "4619.0"
      ]
     },
     "execution_count": 77,
     "metadata": {
      "tags": []
     },
     "output_type": "execute_result"
    }
   ],
   "source": [
    "#RandomForestRegressor after selecting important features\n",
    "rf = RandomForestRegressor(n_estimators=50, random_state=42)\n",
    "pipeline_ff = Pipeline(steps=[('fp', final_pipeline), ('rf', rf)])\n",
    "forest_scores_ff = cross_val_score(pipeline_ff, X, y,\n",
    "                                scoring=\"neg_mean_squared_error\", cv=5)\n",
    "forest_rmse_scores_ff = np.sqrt(-forest_scores_ff)\n",
    "\n",
    "np.round(np.nanmean(forest_rmse_scores_ff))"
   ]
  },
  {
   "cell_type": "markdown",
   "metadata": {
    "id": "CAs56XDFdSpt"
   },
   "source": [
    "Trained RandomForestRegressor on the selected features (I chose to keep the top 100) with 5-fold cross validations, the rmse was 4619, it's higher than the optimized one I got from GridSearch before reducing features by 15.85% but decrease in features was 74.55%. Note: got some NaN in cross validation scores but I was still able to get average rmse"
   ]
  },
  {
   "cell_type": "code",
   "execution_count": null,
   "metadata": {
    "id": "At-Tg81t1ObZ",
    "outputId": "5c8b5426-2bf7-44ed-8ef9-568c46c71ecc"
   },
   "outputs": [
    {
     "data": {
      "text/plain": [
       "0.9785545120148329"
      ]
     },
     "execution_count": 43,
     "metadata": {
      "tags": []
     },
     "output_type": "execute_result"
    }
   ],
   "source": [
    "#Feature selection with RFECV\n",
    "from sklearn.feature_selection import RFECV\n",
    "\n",
    "X_rfe = full_pipeline.fit_transform(X)\n",
    "min_features_to_select = 100  # Minimum number of features to consider\n",
    "rf = RandomForestRegressor(n_estimators=50, random_state=42)\n",
    "rfecv = RFECV(estimator=rf, step=10, cv=5,\n",
    "              scoring='neg_mean_squared_error',\n",
    "              min_features_to_select=min_features_to_select)\n",
    "rfecv.fit(X_rfe, y)\n",
    "\n",
    "rfecv.score(X_rfe,y)"
   ]
  },
  {
   "cell_type": "code",
   "execution_count": null,
   "metadata": {
    "id": "A_JP8p4TcNPC",
    "outputId": "b66b3f25-557d-4555-f25e-a92ebc1c3119"
   },
   "outputs": [
    {
     "data": {
      "text/plain": [
       "333"
      ]
     },
     "execution_count": 44,
     "metadata": {
      "tags": []
     },
     "output_type": "execute_result"
    }
   ],
   "source": [
    "rfecv.n_features_"
   ]
  },
  {
   "cell_type": "code",
   "execution_count": null,
   "metadata": {
    "id": "hyqhZsMlcNPC",
    "outputId": "c62a3f90-b9a3-4614-f1d1-8575990398ff"
   },
   "outputs": [
    {
     "data": {
      "text/plain": [
       "array([4218.81065043, 4211.63336631, 4205.7327279 , 4188.12081528,\n",
       "       4179.4675015 , 4173.00987773, 4168.42281857, 4167.32114551,\n",
       "       4161.67483883, 4159.71903885, 4157.83570923, 4151.91968483,\n",
       "       4151.09796728, 4149.71122566, 4150.87551431, 4147.90999158,\n",
       "       4146.40618011, 4146.03374799, 4145.10542312, 4143.39724867,\n",
       "       4144.84543741, 4143.6438536 , 4144.19786796, 4143.0811877 ,\n",
       "       4141.18664075, 4143.07275373, 4143.62526138, 4144.91920352,\n",
       "       4145.06506011, 4146.86799279, 4143.22891465])"
      ]
     },
     "execution_count": 48,
     "metadata": {
      "tags": []
     },
     "output_type": "execute_result"
    }
   ],
   "source": [
    "np.sqrt(-rfecv.grid_scores_)"
   ]
  },
  {
   "cell_type": "code",
   "execution_count": null,
   "metadata": {
    "id": "s9aadmmOcNPD",
    "outputId": "c025523d-6154-4124-ca27-72d5efae3fea"
   },
   "outputs": [
    {
     "data": {
      "text/plain": [
       "array([1, 1, 1, 1, 1, 1, 1, 1, 2, 3, 1, 1, 1, 1, 1, 1, 1, 1, 1, 1, 1, 1,\n",
       "       1, 1, 1, 1, 1, 1, 1, 1, 1, 1, 2, 6, 1, 1, 1, 1, 1, 1, 7, 1, 1, 1,\n",
       "       3, 1, 4, 1, 1, 1, 1, 1, 3, 1, 6, 5, 1, 1, 1, 1, 1, 1, 3, 1, 1, 1,\n",
       "       1, 1, 1, 1, 1, 1, 1, 2, 1, 1, 1, 1, 1, 3, 5, 1, 2, 4, 5, 1, 1, 1,\n",
       "       1, 1, 1, 1, 1, 1, 1, 1, 1, 2, 1, 1, 1, 1, 1, 1, 1, 1, 1, 1, 5, 1,\n",
       "       1, 1, 1, 1, 1, 1, 1, 1, 1, 1, 1, 1, 1, 1, 6, 1, 1, 1, 6, 1, 1, 1,\n",
       "       1, 1, 1, 7, 1, 2, 5, 1, 1, 1, 1, 1, 4, 1, 1, 1, 1, 1, 4, 1, 1, 1,\n",
       "       1, 1, 1, 1, 1, 1, 6, 1, 1, 1, 1, 5, 1, 2, 1, 4, 3, 3, 1, 1, 1, 1,\n",
       "       1, 1, 1, 1, 1, 1, 1, 1, 1, 1, 1, 1, 1, 1, 1, 1, 1, 1, 1, 1, 1, 1,\n",
       "       1, 1, 1, 1, 1, 7, 1, 1, 1, 1, 1, 1, 6, 1, 5, 1, 1, 1, 1, 1, 3, 2,\n",
       "       4, 1, 1, 1, 1, 1, 1, 1, 1, 1, 1, 1, 1, 6, 4, 1, 1, 1, 1, 1, 1, 1,\n",
       "       2, 1, 7, 1, 3, 4, 1, 1, 1, 3, 1, 1, 4, 1, 5, 1, 1, 7, 5, 6, 1, 7,\n",
       "       6, 1, 5, 1, 1, 1, 1, 1, 1, 1, 7, 1, 1, 1, 1, 7, 6, 1, 1, 1, 1, 7,\n",
       "       1, 1, 1, 1, 1, 1, 1, 1, 1, 1, 1, 1, 1, 1, 1, 1, 1, 1, 1, 1, 1, 1,\n",
       "       1, 1, 1, 1, 1, 1, 1, 1, 1, 1, 1, 1, 1, 1, 1, 1, 1, 1, 1, 1, 1, 1,\n",
       "       1, 1, 1, 1, 1, 1, 1, 1, 1, 1, 1, 1, 1, 1, 1, 1, 1, 1, 1, 1, 1, 7,\n",
       "       1, 1, 1, 1, 1, 1, 1, 1, 1, 1, 1, 1, 1, 1, 1, 1, 1, 1, 1, 1, 1, 1,\n",
       "       1, 1, 1, 1, 1, 1, 1, 1, 1, 1, 1, 1, 1, 1, 1, 1, 1, 4, 2])"
      ]
     },
     "execution_count": 46,
     "metadata": {
      "tags": []
     },
     "output_type": "execute_result"
    }
   ],
   "source": [
    "rfecv.ranking_"
   ]
  },
  {
   "cell_type": "code",
   "execution_count": null,
   "metadata": {
    "id": "6Qi3VhOacNPD"
   },
   "outputs": [],
   "source": [
    "model_rfe = rfecv.estimator_"
   ]
  },
  {
   "cell_type": "code",
   "execution_count": null,
   "metadata": {
    "id": "aRteZCndcNPD",
    "outputId": "06df74c6-5756-42e0-a952-d2a6c48db1d8"
   },
   "outputs": [
    {
     "name": "stdout",
     "output_type": "stream",
     "text": [
      "Scores: [4157. 4168. 4188. 4243. 4239.]\n",
      "Mean:  4199.0\n",
      "Stdev: 36.0\n"
     ]
    }
   ],
   "source": [
    "pipeline_rfecv = Pipeline(steps=[('i', full_pipeline), ('rfe', model_rfe)])\n",
    "rfecv_scores = cross_val_score(pipeline_rfecv , X, y,\n",
    "                                scoring=\"neg_mean_squared_error\", cv=5)\n",
    "rfecv_rmse_scores = np.sqrt(-rfecv_scores)\n",
    "display_scores(rfecv_rmse_scores)"
   ]
  },
  {
   "cell_type": "markdown",
   "metadata": {
    "id": "iPqPkLtkdSpv"
   },
   "source": [
    "After trying to reduce features with RFECV, it kept 333 features out of 393, then it reduced features by only 15.27% and the resulted rmse of 4199 was higher than my optimized chosen model by 5.32%. Although RFECV increased rmse in less amount comapred to feature selection that I did based on feature_importances_ attribute, but it didn't lower complexity of model well, and it took more than 24 hours running"
   ]
  },
  {
   "cell_type": "markdown",
   "metadata": {
    "id": "tMj8hOKFdSpv"
   },
   "source": [
    "So, I decided to go with my chosen model RandomForestRegressor that was optimized with GridSearch without dropping features as the number of features is only 393 and the increase in rmse after dropping features was big relatively"
   ]
  },
  {
   "cell_type": "markdown",
   "metadata": {
    "id": "oTI9CUdtSsD8"
   },
   "source": [
    "# Optimizing an interpretable model (Decision Tree)"
   ]
  },
  {
   "cell_type": "code",
   "execution_count": null,
   "metadata": {
    "colab": {
     "base_uri": "https://localhost:8080/"
    },
    "id": "FnvVbFdMUESi",
    "outputId": "9997850a-002d-42c6-a1bb-965943fdaf7c"
   },
   "outputs": [
    {
     "data": {
      "text/plain": [
       "Pipeline(memory=None,\n",
       "         steps=[('i',\n",
       "                 ColumnTransformer(n_jobs=None, remainder='drop',\n",
       "                                   sparse_threshold=0.3,\n",
       "                                   transformer_weights=None,\n",
       "                                   transformers=[('num',\n",
       "                                                  Pipeline(memory=None,\n",
       "                                                           steps=[('adder',\n",
       "                                                                   FunctionTransformer(accept_sparse=False,\n",
       "                                                                                       check_inverse=True,\n",
       "                                                                                       func=<function add_age at 0x7f67f784c170>,\n",
       "                                                                                       inv_kw_args=None,\n",
       "                                                                                       inverse_func=None,\n",
       "                                                                                       kw_args=None,\n",
       "                                                                                       validate=False)),\n",
       "                                                                  ('i...\n",
       "                                                              min_impurity_split=None,\n",
       "                                                              min_samples_leaf=1,\n",
       "                                                              min_samples_split=2,\n",
       "                                                              min_weight_fraction_leaf=0.0,\n",
       "                                                              presort='deprecated',\n",
       "                                                              random_state=42,\n",
       "                                                              splitter='best'),\n",
       "                              iid='deprecated', n_jobs=None,\n",
       "                              param_grid=[{'max_depth': [10, 30],\n",
       "                                           'max_features': ['auto', 'sqrt']}],\n",
       "                              pre_dispatch='2*n_jobs', refit=True,\n",
       "                              return_train_score=True,\n",
       "                              scoring='neg_mean_squared_error', verbose=0))],\n",
       "         verbose=False)"
      ]
     },
     "execution_count": 43,
     "metadata": {
      "tags": []
     },
     "output_type": "execute_result"
    }
   ],
   "source": [
    "from sklearn.model_selection import GridSearchCV\n",
    "\n",
    "param_grid = [\n",
    "    {'max_depth': [10, 30], 'max_features': ['auto','sqrt']},\n",
    "  ]\n",
    "\n",
    "tree_reg = DecisionTreeRegressor(random_state=42)\n",
    "# train across 5 folds, that's a total of (4)*5=20 rounds of training \n",
    "grid = Pipeline([('i', full_pipeline), ('grid', GridSearchCV(tree_reg, param_grid, cv=5,\n",
    "                           scoring='neg_mean_squared_error', return_train_score=True))])\n",
    "\n",
    "grid.fit(X, y)"
   ]
  },
  {
   "cell_type": "code",
   "execution_count": null,
   "metadata": {
    "colab": {
     "base_uri": "https://localhost:8080/"
    },
    "id": "EoYiPdZgdPji",
    "outputId": "57350dfb-2b2b-49cd-d06a-de5c8dc6efe6"
   },
   "outputs": [
    {
     "data": {
      "text/plain": [
       "{'max_depth': 30, 'max_features': 'auto'}"
      ]
     },
     "execution_count": 44,
     "metadata": {
      "tags": []
     },
     "output_type": "execute_result"
    }
   ],
   "source": [
    "grid.named_steps['grid'].best_params_"
   ]
  },
  {
   "cell_type": "code",
   "execution_count": null,
   "metadata": {
    "colab": {
     "base_uri": "https://localhost:8080/"
    },
    "id": "WkDueZN9dwg3",
    "outputId": "ccc11958-2953-41ac-d7d3-2dddf36883b4"
   },
   "outputs": [
    {
     "name": "stdout",
     "output_type": "stream",
     "text": [
      "score = 6182.0 <- parameters {'max_depth': 10, 'max_features': 'auto'}\n",
      "score = 7790.0 <- parameters {'max_depth': 10, 'max_features': 'sqrt'}\n",
      "score = 5282.0 <- parameters {'max_depth': 30, 'max_features': 'auto'}\n",
      "score = 6373.0 <- parameters {'max_depth': 30, 'max_features': 'sqrt'}\n"
     ]
    }
   ],
   "source": [
    "grid_cv_res = grid.named_steps['grid'].cv_results_\n",
    "for mean_score, params in zip(grid_cv_res[\"mean_test_score\"], grid_cv_res[\"params\"]):\n",
    "    print(f\"score = {np.round(np.sqrt(-mean_score))} <- parameters {params}\")"
   ]
  },
  {
   "cell_type": "markdown",
   "metadata": {
    "id": "mH2q5GaddSpw"
   },
   "source": [
    "Now, before doing the final test I tried to optimize an interpretable model like DecissionTreeRegressor using GridSearch, the optimized one was of max_depth of 30 and max_features of 'auto' but the resulting rmse was 5282 wich is less than the previous performance of DecissionTreeRegressor of 5464 but still far higher than our chosen RandomForestRegressor so didn't go with it"
   ]
  },
  {
   "cell_type": "markdown",
   "metadata": {
    "id": "HYc1NpzFKCGl"
   },
   "source": [
    "# Evaluation on Test Set"
   ]
  },
  {
   "cell_type": "code",
   "execution_count": 47,
   "metadata": {
    "colab": {
     "base_uri": "https://localhost:8080/"
    },
    "id": "87tHuoTNC5Ua",
    "outputId": "044cfa42-ba11-441e-92b4-f9396b9d372b"
   },
   "outputs": [
    {
     "name": "stdout",
     "output_type": "stream",
     "text": [
      "(137464, 18)\n"
     ]
    }
   ],
   "source": [
    "#Getting test data\n",
    "cars_test = pd.read_csv(\"cars_test.csv\")\n",
    "print(cars_test.shape)"
   ]
  },
  {
   "cell_type": "code",
   "execution_count": 48,
   "metadata": {
    "id": "e7Q_0odMLFho"
   },
   "outputs": [],
   "source": [
    "cars_test = remove_outliers_y.transform(cars_test)"
   ]
  },
  {
   "cell_type": "code",
   "execution_count": 49,
   "metadata": {
    "id": "BU4WW69qLe9z"
   },
   "outputs": [],
   "source": [
    "X_test = cars_test.drop(['id','price','lat','long','posting_date'], axis=1)\n",
    "y_test = cars_test['price']"
   ]
  },
  {
   "cell_type": "code",
   "execution_count": 52,
   "metadata": {
    "colab": {
     "base_uri": "https://localhost:8080/"
    },
    "id": "X4h7DVWrm6yZ",
    "outputId": "f622c20b-814f-43d9-94d0-c882eefbb21b"
   },
   "outputs": [
    {
     "data": {
      "text/plain": [
       "3893.0"
      ]
     },
     "execution_count": 52,
     "metadata": {
      "tags": []
     },
     "output_type": "execute_result"
    }
   ],
   "source": [
    "#Evaluating performance of final model on test data\n",
    "final_model = grid_search.named_steps['grid_search'].best_estimator_\n",
    "X_test_prepared = full_pipeline.transform(X_test)\n",
    "final_predictions = final_model.predict(X_test_prepared)\n",
    "\n",
    "final_mse = mean_squared_error(y_test, final_predictions)\n",
    "final_rmse = np.round(np.sqrt(final_mse))\n",
    "final_rmse"
   ]
  },
  {
   "cell_type": "markdown",
   "metadata": {
    "id": "R2ADp2PLdSpx"
   },
   "source": [
    "I applied the pipeline on the test data to predict it using my chosen model and the resulting rmse was 3893"
   ]
  },
  {
   "cell_type": "markdown",
   "metadata": {
    "id": "ETKC6b_TdSpy"
   },
   "source": [
    "Finally, based on the learning curve when errors on both train and test data alomst converge then adding more data is very unlikely to help and here rmse on validation was 3987 while on test it's only 3893 they are very close so I'll not recommend adding data"
   ]
  },
  {
   "cell_type": "markdown",
   "metadata": {
    "id": "Rr-MHvZldSpy"
   },
   "source": [
    "Voila!"
   ]
  }
 ],
 "metadata": {
  "colab": {
   "collapsed_sections": [],
   "name": "mma259_Maryam_Ahmed_Ali_assign5.ipynb",
   "provenance": []
  },
  "kernelspec": {
   "display_name": "Python 3",
   "language": "python",
   "name": "python3"
  },
  "language_info": {
   "codemirror_mode": {
    "name": "ipython",
    "version": 3
   },
   "file_extension": ".py",
   "mimetype": "text/x-python",
   "name": "python",
   "nbconvert_exporter": "python",
   "pygments_lexer": "ipython3",
   "version": "3.8.3"
  }
 },
 "nbformat": 4,
 "nbformat_minor": 1
}
